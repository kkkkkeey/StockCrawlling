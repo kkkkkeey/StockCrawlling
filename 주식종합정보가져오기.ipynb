{
  "nbformat": 4,
  "nbformat_minor": 0,
  "metadata": {
    "colab": {
      "provenance": [],
      "toc_visible": true
    },
    "kernelspec": {
      "name": "python3",
      "display_name": "Python 3"
    },
    "language_info": {
      "name": "python"
    }
  },
  "cells": [
    {
      "cell_type": "code",
      "execution_count": 3,
      "metadata": {
        "colab": {
          "base_uri": "https://localhost:8080/"
        },
        "id": "PXgN9cbcA8uu",
        "outputId": "2c3a4043-f4de-4882-b19a-58550298f735"
      },
      "outputs": [
        {
          "output_type": "stream",
          "name": "stderr",
          "text": [
            "<ipython-input-3-8b63434166e3>:82: DeprecationWarning: The order of arguments in worksheet.update() has changed. Please pass values first and range_name secondor used named arguments (range_name=, values=)\n",
            "  sheet.update(batch_range, batch_data)\n"
          ]
        },
        {
          "output_type": "stream",
          "name": "stdout",
          "text": [
            "Error fetching data for 388800: 409 Client Error: 409 for url: https://m.stock.naver.com/api/stock/388800/integration\n"
          ]
        }
      ],
      "source": [
        "import gspread\n",
        "from oauth2client.service_account import ServiceAccountCredentials\n",
        "import requests\n",
        "import time\n",
        "\n",
        "# Google Sheets API 인증\n",
        "scope = [\"https://spreadsheets.google.com/feeds\", \"https://www.googleapis.com/auth/drive\"]\n",
        "creds = ServiceAccountCredentials.from_json_keyfile_name(\"/content/white-rune-235923-5a427af17fd9.json\", scope)\n",
        "client = gspread.authorize(creds)\n",
        "\n",
        "# 시트 열기\n",
        "spreadsheet = client.open(\"주식종목가져오기\")\n",
        "\n",
        "def fetch_stock_info(stock_code):\n",
        "    padded_stock_code = str(stock_code).zfill(6)\n",
        "    url = f\"https://m.stock.naver.com/api/stock/{padded_stock_code}/integration\"\n",
        "\n",
        "    try:\n",
        "        response = requests.get(url)\n",
        "        response.raise_for_status()\n",
        "        data = response.json()\n",
        "\n",
        "        stock_info = {}\n",
        "\n",
        "        total_infos = data.get('totalInfos', [])\n",
        "        for info in total_infos:\n",
        "            key = info.get('key')\n",
        "            value = info.get('value')\n",
        "\n",
        "            if key == \"52주 최고\":\n",
        "                stock_info['high52Weeks'] = value\n",
        "            elif key == \"52주 최저\":\n",
        "                stock_info['low52Weeks'] = value\n",
        "            elif key == \"PER\":\n",
        "                stock_info['PER'] = value\n",
        "            elif key == \"EPS\":\n",
        "                stock_info['EPS'] = value\n",
        "            elif key == \"추정PER\":\n",
        "                stock_info['cnsPER'] = value\n",
        "            elif key == \"추정EPS\":\n",
        "                stock_info['cnsEPS'] = value\n",
        "            elif key == \"PBR\":\n",
        "                stock_info['PBR'] = value\n",
        "            elif key == \"BPS\":\n",
        "                stock_info['BPS'] = value\n",
        "            elif key == \"배당수익률\":\n",
        "                stock_info['dividendYieldRatio'] = value\n",
        "            elif key == \"주당배당금\":\n",
        "                stock_info['dividend'] = value\n",
        "\n",
        "        return [\n",
        "            stock_info.get('high52Weeks'), stock_info.get('low52Weeks'), stock_info.get('PER'),\n",
        "            stock_info.get('EPS'), stock_info.get('cnsPER'), stock_info.get('cnsEPS'),\n",
        "            stock_info.get('PBR'), stock_info.get('BPS'), stock_info.get('dividendYieldRatio'),\n",
        "            stock_info.get('dividend')\n",
        "        ]\n",
        "\n",
        "    except requests.RequestException as e:\n",
        "        print(f\"Error fetching data for {stock_code}: {e}\")\n",
        "        return [\"Error fetching data\"]\n",
        "\n",
        "def clear_range(sheet, range):\n",
        "    cell_list = sheet.range(range)\n",
        "    for cell in cell_list:\n",
        "        cell.value = ''\n",
        "    sheet.update_cells(cell_list)\n",
        "\n",
        "def update_sheet(sheet_name):\n",
        "    sheet = spreadsheet.worksheet(sheet_name)\n",
        "    stock_codes = sheet.col_values(1)[1:]  # A2:A 컬럼 값 가져오기, 첫 번째 행 제외\n",
        "\n",
        "    # 입력 범위 지우기\n",
        "    clear_range(sheet, 'F2:O' + str(len(stock_codes) + 1))\n",
        "\n",
        "    batch_data = []\n",
        "    for i, stock_code in enumerate(stock_codes, start=2):\n",
        "        stock_data = fetch_stock_info(stock_code)\n",
        "        batch_data.append(stock_data)\n",
        "\n",
        "    # 일괄 처리를 위해 데이터를 한 번에 업데이트\n",
        "    batch_range = f'F2:O{len(stock_codes) + 1}'  # 데이터가 들어갈 범위 설정\n",
        "    sheet.update(batch_range, batch_data)\n",
        "\n",
        "# 코스피 시트 업데이트\n",
        "update_sheet(\"코스피\")\n",
        "\n",
        "# 코스닥 시트 업데이트\n",
        "update_sheet(\"코스닥\")\n"
      ]
    }
  ]
}